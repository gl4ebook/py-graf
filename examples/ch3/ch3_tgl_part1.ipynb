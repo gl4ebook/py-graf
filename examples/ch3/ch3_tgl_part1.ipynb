{
 "cells": [
  {
   "cell_type": "code",
   "execution_count": 1,
   "id": "31704d4f",
   "metadata": {},
   "outputs": [
    {
     "name": "stdout",
     "output_type": "stream",
     "text": [
      "{'A': 0.0, 'B': 0.5, 'C': 1.0}\n"
     ]
    }
   ],
   "source": [
    "import numpy as np\n",
    "import networkx as nx\n",
    "\n",
    "# Creating a sample graph with node attributes, where the attribute could be anything - for instance, transaction frequency.\n",
    "G = nx.Graph()\n",
    "G.add_node(\"A\", attribute=10)\n",
    "G.add_node(\"B\", attribute=20)\n",
    "G.add_node(\"C\", attribute=30)\n",
    "\n",
    "# Normalize the node attributes\n",
    "attributes = nx.get_node_attributes(G, 'attribute')\n",
    "max_attr = max(attributes.values())\n",
    "min_attr = min(attributes.values())\n",
    "\n",
    "# Normalizing attributes brings them to a common scale, often between 0 and 1.\n",
    "for node in G.nodes():\n",
    "    G.nodes[node]['normalized_attr'] = (G.nodes[node]['attribute'] - min_attr) / (max_attr - min_attr)\n",
    "\n",
    "print(nx.get_node_attributes(G, 'normalized_attr'))\n"
   ]
  },
  {
   "cell_type": "code",
   "execution_count": null,
   "id": "fa7589dd",
   "metadata": {},
   "outputs": [],
   "source": [
    "Node2Vec"
   ]
  },
  {
   "cell_type": "code",
   "execution_count": 1,
   "id": "da43bbbe",
   "metadata": {},
   "outputs": [],
   "source": [
    "# !pip install --upgrade networkx scipy"
   ]
  },
  {
   "cell_type": "code",
   "execution_count": 16,
   "id": "21b9d3a2",
   "metadata": {},
   "outputs": [],
   "source": [
    "import csv"
   ]
  },
  {
   "cell_type": "code",
   "execution_count": 17,
   "id": "1992a604",
   "metadata": {},
   "outputs": [],
   "source": [
    "def parse_metadata(text):\n",
    "    # Splitting the text by \"Id: \" to get individual product blocks\n",
    "    product_blocks = [block for block in text.split(\"Id:\") if block.strip()]\n",
    "\n",
    "    products = []\n",
    "    reviews = []\n",
    "\n",
    "    for block in product_blocks:\n",
    "        product = {}\n",
    "        \n",
    "        # Extracting product details\n",
    "        product[\"Id\"] = int(re.search(r\"(\\d+)\", block).group())\n",
    "        \n",
    "        asin_match = re.search(r\"ASIN: (\\S+)\", block)\n",
    "        if not asin_match:\n",
    "            continue  # Skip products without ASIN\n",
    "        product[\"ASIN\"] = asin_match.group(1)\n",
    "        \n",
    "        title_match = re.search(r\"title: (.+)\", block)\n",
    "        product[\"title\"] = title_match.group(1).strip() if title_match else \"\"\n",
    "        \n",
    "        group_match = re.search(r\"group: (.+)\", block)\n",
    "        product[\"group\"] = group_match.group(1).strip() if group_match else \"\"\n",
    "        \n",
    "        salesrank_match = re.search(r\"salesrank: (\\d+)\", block)\n",
    "        product[\"salesrank\"] = int(salesrank_match.group(1)) if salesrank_match else None\n",
    "        \n",
    "        similar_match = re.search(r\"similar: \\d+ (.+)\", block)\n",
    "        product[\"similar\"] = \", \".join(similar_match.group(1).split()) if similar_match else \"\"\n",
    "        \n",
    "        categories_match = re.findall(r\"\\|([^\\|]+)\", block)\n",
    "        product[\"categories\"] = \" | \".join(categories_match)\n",
    "        \n",
    "        reviews_info = re.search(r\"reviews: total: \\d+  downloaded: \\d+  avg rating: (\\d(\\.\\d)?)\", block)\n",
    "        product[\"total_reviews\"] = int(re.search(r\"total: (\\d+)\", reviews_info.group()).group(1)) if reviews_info else 0\n",
    "        product[\"avg_rating\"] = float(reviews_info.group(1)) if reviews_info else 0.0\n",
    "        \n",
    "        products.append(product)\n",
    "        \n",
    "        # Extracting review details\n",
    "        review_lines = re.findall(r\"(\\d{4}-\\d{1,2}-\\d{1,2}  cutomer: \\S+  rating: \\d  votes:   \\d+  helpful:   \\d+)\", block)\n",
    "        for line in review_lines:\n",
    "            review = {}\n",
    "            review[\"Id\"] = product[\"Id\"]\n",
    "            review[\"review_date\"] = re.search(r\"(\\d{4}-\\d{1,2}-\\d{1,2})\", line).group(1)\n",
    "            review[\"customer_id\"] = re.search(r\"cutomer: (\\S+)\", line).group(1)\n",
    "            review[\"rating\"] = int(re.search(r\"rating: (\\d)\", line).group(1))\n",
    "            review[\"votes\"] = int(re.search(r\"votes:   (\\d+)\", line).group(1))\n",
    "            review[\"helpful_votes\"] = int(re.search(r\"helpful:   (\\d+)\", line).group(1))\n",
    "            \n",
    "            reviews.append(review)\n",
    "\n",
    "    return products, reviews"
   ]
  },
  {
   "cell_type": "code",
   "execution_count": 21,
   "id": "b86f3905",
   "metadata": {},
   "outputs": [],
   "source": [
    "with open('amazon-meta.txt', 'r') as file:\n",
    "    amzn_metadata = file.read()\n",
    "\n",
    "parsed_products, parsed_reviews = parse_metadata(amzn_metadata)\n",
    "\n",
    "# Saving products to CSV\n",
    "product_fields = [\"Id\", \"ASIN\", \"title\", \"group\", \"salesrank\", \"similar\", \"categories\", \"total_reviews\", \"avg_rating\"]\n",
    "with open(\"products.csv\", \"w\", encoding=\"utf-8\", newline='') as csvfile:\n",
    "    writer = csv.DictWriter(csvfile, fieldnames=product_fields)\n",
    "    writer.writeheader()\n",
    "    for product in parsed_products:\n",
    "        writer.writerow(product)\n",
    "\n",
    "# Saving reviews to CSV\n",
    "review_fields = [\"Id\", \"review_date\", \"customer_id\", \"rating\", \"votes\", \"helpful_votes\"]\n",
    "with open(\"reviews.csv\", \"w\", encoding=\"utf-8\", newline='') as csvfile:\n",
    "    writer = csv.DictWriter(csvfile, fieldnames=review_fields)\n",
    "    writer.writeheader()\n",
    "    for review in parsed_reviews:\n",
    "        writer.writerow(review)\n"
   ]
  },
  {
   "cell_type": "code",
   "execution_count": 2,
   "id": "6aa72551",
   "metadata": {},
   "outputs": [
    {
     "name": "stdout",
     "output_type": "stream",
     "text": [
      "Products Data:\n",
      "   Id        ASIN                                              title group  \\\n",
      "0   0  0771044445                                                NaN   NaN   \n",
      "1   1  0827229534            Patterns of Preaching: A Sermon Sampler  Book   \n",
      "2   2  0738700797                         Candlemas: Feast of Flames  Book   \n",
      "3   3  0486287785   World War II Allied Fighter Planes Trading Cards  Book   \n",
      "4   4  0842328327  Life Application Bible Commentary: 1 and 2 Tim...  Book   \n",
      "\n",
      "   salesrank                                            similar  \\\n",
      "0        NaN                                                NaN   \n",
      "1   396585.0  0804215715, 156101074X, 0687023955, 0687074231...   \n",
      "2   168596.0  0738700827, 1567184960, 1567182836, 0738700525...   \n",
      "3  1270652.0                                                NaN   \n",
      "4   631289.0  0842328130, 0830818138, 0842330313, 0842328610...   \n",
      "\n",
      "                                          categories  total_reviews  \\\n",
      "0                                                NaN              0   \n",
      "1  Books[283155] | Subjects[1000] | Religion & Sp...              2   \n",
      "2  Books[283155] | Subjects[1000] | Religion & Sp...             12   \n",
      "3  Books[283155] | Subjects[1000] | Home & Garden...              1   \n",
      "4  Books[283155] | Subjects[1000] | Religion & Sp...              1   \n",
      "\n",
      "   avg_rating  \n",
      "0         0.0  \n",
      "1         5.0  \n",
      "2         4.5  \n",
      "3         5.0  \n",
      "4         4.0  \n",
      "\n",
      "Reviews Data:\n",
      "   Id review_date     customer_id  rating  votes  helpful_votes\n",
      "0   1  2003-12-14  A2VE83MZF98ITY       5      6              5\n",
      "1   2  2001-12-16  A11NCO6YTE4BTJ       5      5              4\n",
      "2   2   2002-1-24  A13SG9ACZ9O5IM       5      8              8\n",
      "3   2   2002-1-28  A1BDAI6VEYMAZA       5      4              4\n",
      "4   2   2002-3-23  A3GO7UV9XX14D8       4      6              6\n"
     ]
    }
   ],
   "source": [
    "import pandas as pd\n",
    "\n",
    "# Read the CSV files into pandas dataframes\n",
    "products_df = pd.read_csv('products.csv')\n",
    "reviews_df = pd.read_csv('reviews.csv')\n",
    "\n",
    "# Display the first few rows of each dataframe to inspect the data\n",
    "print(\"Products Data:\")\n",
    "print(products_df.head())\n",
    "\n",
    "print(\"\\nReviews Data:\")\n",
    "print(reviews_df.head())\n"
   ]
  },
  {
   "cell_type": "code",
   "execution_count": 3,
   "id": "5bfa84c2",
   "metadata": {},
   "outputs": [
    {
     "data": {
      "text/html": [
       "<div>\n",
       "<style scoped>\n",
       "    .dataframe tbody tr th:only-of-type {\n",
       "        vertical-align: middle;\n",
       "    }\n",
       "\n",
       "    .dataframe tbody tr th {\n",
       "        vertical-align: top;\n",
       "    }\n",
       "\n",
       "    .dataframe thead th {\n",
       "        text-align: right;\n",
       "    }\n",
       "</style>\n",
       "<table border=\"1\" class=\"dataframe\">\n",
       "  <thead>\n",
       "    <tr style=\"text-align: right;\">\n",
       "      <th></th>\n",
       "      <th>Id</th>\n",
       "      <th>ASIN</th>\n",
       "      <th>title</th>\n",
       "      <th>group</th>\n",
       "      <th>salesrank</th>\n",
       "      <th>similar</th>\n",
       "      <th>categories</th>\n",
       "      <th>total_reviews</th>\n",
       "      <th>avg_rating</th>\n",
       "    </tr>\n",
       "  </thead>\n",
       "  <tbody>\n",
       "    <tr>\n",
       "      <th>0</th>\n",
       "      <td>0</td>\n",
       "      <td>0771044445</td>\n",
       "      <td>NaN</td>\n",
       "      <td>NaN</td>\n",
       "      <td>NaN</td>\n",
       "      <td>NaN</td>\n",
       "      <td>NaN</td>\n",
       "      <td>0</td>\n",
       "      <td>0.0</td>\n",
       "    </tr>\n",
       "    <tr>\n",
       "      <th>1</th>\n",
       "      <td>1</td>\n",
       "      <td>0827229534</td>\n",
       "      <td>Patterns of Preaching: A Sermon Sampler</td>\n",
       "      <td>Book</td>\n",
       "      <td>396585.0</td>\n",
       "      <td>0804215715, 156101074X, 0687023955, 0687074231...</td>\n",
       "      <td>Books[283155] | Subjects[1000] | Religion &amp; Sp...</td>\n",
       "      <td>2</td>\n",
       "      <td>5.0</td>\n",
       "    </tr>\n",
       "    <tr>\n",
       "      <th>2</th>\n",
       "      <td>2</td>\n",
       "      <td>0738700797</td>\n",
       "      <td>Candlemas: Feast of Flames</td>\n",
       "      <td>Book</td>\n",
       "      <td>168596.0</td>\n",
       "      <td>0738700827, 1567184960, 1567182836, 0738700525...</td>\n",
       "      <td>Books[283155] | Subjects[1000] | Religion &amp; Sp...</td>\n",
       "      <td>12</td>\n",
       "      <td>4.5</td>\n",
       "    </tr>\n",
       "    <tr>\n",
       "      <th>3</th>\n",
       "      <td>3</td>\n",
       "      <td>0486287785</td>\n",
       "      <td>World War II Allied Fighter Planes Trading Cards</td>\n",
       "      <td>Book</td>\n",
       "      <td>1270652.0</td>\n",
       "      <td>NaN</td>\n",
       "      <td>Books[283155] | Subjects[1000] | Home &amp; Garden...</td>\n",
       "      <td>1</td>\n",
       "      <td>5.0</td>\n",
       "    </tr>\n",
       "    <tr>\n",
       "      <th>4</th>\n",
       "      <td>4</td>\n",
       "      <td>0842328327</td>\n",
       "      <td>Life Application Bible Commentary: 1 and 2 Tim...</td>\n",
       "      <td>Book</td>\n",
       "      <td>631289.0</td>\n",
       "      <td>0842328130, 0830818138, 0842330313, 0842328610...</td>\n",
       "      <td>Books[283155] | Subjects[1000] | Religion &amp; Sp...</td>\n",
       "      <td>1</td>\n",
       "      <td>4.0</td>\n",
       "    </tr>\n",
       "  </tbody>\n",
       "</table>\n",
       "</div>"
      ],
      "text/plain": [
       "   Id        ASIN                                              title group  \\\n",
       "0   0  0771044445                                                NaN   NaN   \n",
       "1   1  0827229534            Patterns of Preaching: A Sermon Sampler  Book   \n",
       "2   2  0738700797                         Candlemas: Feast of Flames  Book   \n",
       "3   3  0486287785   World War II Allied Fighter Planes Trading Cards  Book   \n",
       "4   4  0842328327  Life Application Bible Commentary: 1 and 2 Tim...  Book   \n",
       "\n",
       "   salesrank                                            similar  \\\n",
       "0        NaN                                                NaN   \n",
       "1   396585.0  0804215715, 156101074X, 0687023955, 0687074231...   \n",
       "2   168596.0  0738700827, 1567184960, 1567182836, 0738700525...   \n",
       "3  1270652.0                                                NaN   \n",
       "4   631289.0  0842328130, 0830818138, 0842330313, 0842328610...   \n",
       "\n",
       "                                          categories  total_reviews  \\\n",
       "0                                                NaN              0   \n",
       "1  Books[283155] | Subjects[1000] | Religion & Sp...              2   \n",
       "2  Books[283155] | Subjects[1000] | Religion & Sp...             12   \n",
       "3  Books[283155] | Subjects[1000] | Home & Garden...              1   \n",
       "4  Books[283155] | Subjects[1000] | Religion & Sp...              1   \n",
       "\n",
       "   avg_rating  \n",
       "0         0.0  \n",
       "1         5.0  \n",
       "2         4.5  \n",
       "3         5.0  \n",
       "4         4.0  "
      ]
     },
     "execution_count": 3,
     "metadata": {},
     "output_type": "execute_result"
    }
   ],
   "source": [
    "products_df.head()"
   ]
  },
  {
   "cell_type": "code",
   "execution_count": 4,
   "id": "69ebec75",
   "metadata": {},
   "outputs": [
    {
     "data": {
      "text/html": [
       "<div>\n",
       "<style scoped>\n",
       "    .dataframe tbody tr th:only-of-type {\n",
       "        vertical-align: middle;\n",
       "    }\n",
       "\n",
       "    .dataframe tbody tr th {\n",
       "        vertical-align: top;\n",
       "    }\n",
       "\n",
       "    .dataframe thead th {\n",
       "        text-align: right;\n",
       "    }\n",
       "</style>\n",
       "<table border=\"1\" class=\"dataframe\">\n",
       "  <thead>\n",
       "    <tr style=\"text-align: right;\">\n",
       "      <th></th>\n",
       "      <th>Id</th>\n",
       "      <th>ASIN</th>\n",
       "      <th>title</th>\n",
       "      <th>group</th>\n",
       "      <th>salesrank</th>\n",
       "      <th>similar</th>\n",
       "      <th>categories</th>\n",
       "      <th>total_reviews</th>\n",
       "      <th>avg_rating</th>\n",
       "    </tr>\n",
       "  </thead>\n",
       "  <tbody>\n",
       "    <tr>\n",
       "      <th>1</th>\n",
       "      <td>1</td>\n",
       "      <td>0827229534</td>\n",
       "      <td>Patterns of Preaching: A Sermon Sampler</td>\n",
       "      <td>Book</td>\n",
       "      <td>396585.0</td>\n",
       "      <td>0804215715, 156101074X, 0687023955, 0687074231...</td>\n",
       "      <td>Books[283155] | Subjects[1000] | Religion &amp; Sp...</td>\n",
       "      <td>2</td>\n",
       "      <td>5.0</td>\n",
       "    </tr>\n",
       "    <tr>\n",
       "      <th>2</th>\n",
       "      <td>2</td>\n",
       "      <td>0738700797</td>\n",
       "      <td>Candlemas: Feast of Flames</td>\n",
       "      <td>Book</td>\n",
       "      <td>168596.0</td>\n",
       "      <td>0738700827, 1567184960, 1567182836, 0738700525...</td>\n",
       "      <td>Books[283155] | Subjects[1000] | Religion &amp; Sp...</td>\n",
       "      <td>12</td>\n",
       "      <td>4.5</td>\n",
       "    </tr>\n",
       "    <tr>\n",
       "      <th>4</th>\n",
       "      <td>4</td>\n",
       "      <td>0842328327</td>\n",
       "      <td>Life Application Bible Commentary: 1 and 2 Tim...</td>\n",
       "      <td>Book</td>\n",
       "      <td>631289.0</td>\n",
       "      <td>0842328130, 0830818138, 0842330313, 0842328610...</td>\n",
       "      <td>Books[283155] | Subjects[1000] | Religion &amp; Sp...</td>\n",
       "      <td>1</td>\n",
       "      <td>4.0</td>\n",
       "    </tr>\n",
       "    <tr>\n",
       "      <th>5</th>\n",
       "      <td>5</td>\n",
       "      <td>1577943082</td>\n",
       "      <td>Prayers That Avail Much for Business: Executive</td>\n",
       "      <td>Book</td>\n",
       "      <td>455160.0</td>\n",
       "      <td>157794349X, 0892749504, 1577941829, 0892749563...</td>\n",
       "      <td>Books[283155] | Subjects[1000] | Religion &amp; Sp...</td>\n",
       "      <td>0</td>\n",
       "      <td>0.0</td>\n",
       "    </tr>\n",
       "    <tr>\n",
       "      <th>6</th>\n",
       "      <td>6</td>\n",
       "      <td>0486220125</td>\n",
       "      <td>How the Other Half Lives: Studies Among the Te...</td>\n",
       "      <td>Book</td>\n",
       "      <td>188784.0</td>\n",
       "      <td>0486401960, 0452283612, 0486229076, 0714840343...</td>\n",
       "      <td>Books[283155] | Subjects[1000] | Arts &amp; Photog...</td>\n",
       "      <td>17</td>\n",
       "      <td>4.0</td>\n",
       "    </tr>\n",
       "  </tbody>\n",
       "</table>\n",
       "</div>"
      ],
      "text/plain": [
       "   Id        ASIN                                              title group  \\\n",
       "1   1  0827229534            Patterns of Preaching: A Sermon Sampler  Book   \n",
       "2   2  0738700797                         Candlemas: Feast of Flames  Book   \n",
       "4   4  0842328327  Life Application Bible Commentary: 1 and 2 Tim...  Book   \n",
       "5   5  1577943082    Prayers That Avail Much for Business: Executive  Book   \n",
       "6   6  0486220125  How the Other Half Lives: Studies Among the Te...  Book   \n",
       "\n",
       "   salesrank                                            similar  \\\n",
       "1   396585.0  0804215715, 156101074X, 0687023955, 0687074231...   \n",
       "2   168596.0  0738700827, 1567184960, 1567182836, 0738700525...   \n",
       "4   631289.0  0842328130, 0830818138, 0842330313, 0842328610...   \n",
       "5   455160.0  157794349X, 0892749504, 1577941829, 0892749563...   \n",
       "6   188784.0  0486401960, 0452283612, 0486229076, 0714840343...   \n",
       "\n",
       "                                          categories  total_reviews  \\\n",
       "1  Books[283155] | Subjects[1000] | Religion & Sp...              2   \n",
       "2  Books[283155] | Subjects[1000] | Religion & Sp...             12   \n",
       "4  Books[283155] | Subjects[1000] | Religion & Sp...              1   \n",
       "5  Books[283155] | Subjects[1000] | Religion & Sp...              0   \n",
       "6  Books[283155] | Subjects[1000] | Arts & Photog...             17   \n",
       "\n",
       "   avg_rating  \n",
       "1         5.0  \n",
       "2         4.5  \n",
       "4         4.0  \n",
       "5         0.0  \n",
       "6         4.0  "
      ]
     },
     "execution_count": 4,
     "metadata": {},
     "output_type": "execute_result"
    }
   ],
   "source": [
    "products_df_cleaned = products_df.dropna()\n",
    "products_df_cleaned.head()"
   ]
  },
  {
   "cell_type": "code",
   "execution_count": 33,
   "id": "117afa72",
   "metadata": {},
   "outputs": [],
   "source": [
    "import pandas as pd\n",
    "\n",
    "df = pd.read_csv('amazon0302.txt', sep='\\t')"
   ]
  },
  {
   "cell_type": "code",
   "execution_count": 34,
   "id": "c3ee3819",
   "metadata": {},
   "outputs": [
    {
     "data": {
      "text/html": [
       "<div>\n",
       "<style scoped>\n",
       "    .dataframe tbody tr th:only-of-type {\n",
       "        vertical-align: middle;\n",
       "    }\n",
       "\n",
       "    .dataframe tbody tr th {\n",
       "        vertical-align: top;\n",
       "    }\n",
       "\n",
       "    .dataframe thead th {\n",
       "        text-align: right;\n",
       "    }\n",
       "</style>\n",
       "<table border=\"1\" class=\"dataframe\">\n",
       "  <thead>\n",
       "    <tr style=\"text-align: right;\">\n",
       "      <th></th>\n",
       "      <th>FromNodeId</th>\n",
       "      <th>ToNodeId</th>\n",
       "    </tr>\n",
       "  </thead>\n",
       "  <tbody>\n",
       "    <tr>\n",
       "      <th>0</th>\n",
       "      <td>0</td>\n",
       "      <td>1</td>\n",
       "    </tr>\n",
       "    <tr>\n",
       "      <th>1</th>\n",
       "      <td>0</td>\n",
       "      <td>2</td>\n",
       "    </tr>\n",
       "    <tr>\n",
       "      <th>2</th>\n",
       "      <td>0</td>\n",
       "      <td>3</td>\n",
       "    </tr>\n",
       "    <tr>\n",
       "      <th>3</th>\n",
       "      <td>0</td>\n",
       "      <td>4</td>\n",
       "    </tr>\n",
       "    <tr>\n",
       "      <th>4</th>\n",
       "      <td>0</td>\n",
       "      <td>5</td>\n",
       "    </tr>\n",
       "    <tr>\n",
       "      <th>...</th>\n",
       "      <td>...</td>\n",
       "      <td>...</td>\n",
       "    </tr>\n",
       "    <tr>\n",
       "      <th>95</th>\n",
       "      <td>20</td>\n",
       "      <td>6</td>\n",
       "    </tr>\n",
       "    <tr>\n",
       "      <th>96</th>\n",
       "      <td>20</td>\n",
       "      <td>7</td>\n",
       "    </tr>\n",
       "    <tr>\n",
       "      <th>97</th>\n",
       "      <td>20</td>\n",
       "      <td>8</td>\n",
       "    </tr>\n",
       "    <tr>\n",
       "      <th>98</th>\n",
       "      <td>20</td>\n",
       "      <td>23</td>\n",
       "    </tr>\n",
       "    <tr>\n",
       "      <th>99</th>\n",
       "      <td>20</td>\n",
       "      <td>30</td>\n",
       "    </tr>\n",
       "  </tbody>\n",
       "</table>\n",
       "<p>100 rows × 2 columns</p>\n",
       "</div>"
      ],
      "text/plain": [
       "    FromNodeId  ToNodeId\n",
       "0            0         1\n",
       "1            0         2\n",
       "2            0         3\n",
       "3            0         4\n",
       "4            0         5\n",
       "..         ...       ...\n",
       "95          20         6\n",
       "96          20         7\n",
       "97          20         8\n",
       "98          20        23\n",
       "99          20        30\n",
       "\n",
       "[100 rows x 2 columns]"
      ]
     },
     "execution_count": 34,
     "metadata": {},
     "output_type": "execute_result"
    }
   ],
   "source": [
    "df.head(100)"
   ]
  },
  {
   "cell_type": "code",
   "execution_count": 35,
   "id": "abce3df7",
   "metadata": {},
   "outputs": [],
   "source": [
    "# Export the DataFrame to a .csv file\n",
    "df.to_csv('amzn_directed_graph.csv', index=False)"
   ]
  },
  {
   "cell_type": "code",
   "execution_count": 93,
   "id": "6aa245d7",
   "metadata": {},
   "outputs": [
    {
     "name": "stdout",
     "output_type": "stream",
     "text": [
      "['Book' 'Music' 'DVD' 'Video' 'Toy' 'Video Games' 'Software'\n",
      " 'Baby Product' 'Sports']\n"
     ]
    }
   ],
   "source": [
    "import networkx as nx\n",
    "import pandas as pd\n",
    "\n",
    "\n",
    "# Load CSV files\n",
    "edges_df = pd.read_csv('amzn_directed_graph.csv')\n",
    "products_df = pd.read_csv('products.csv')\n",
    "\n",
    "# Dropping NAs in the data\n",
    "products_df = products_df.dropna()\n",
    "\n",
    "print(products_df.group.unique())\n",
    "\n",
    "# products_df = products_df[products_df['group'] != 'Book']\n",
    "# edges_df = edges_df[\n",
    "#     edges_df['FromNodeId'].isin(products_df['Id']) &\n",
    "#     edges_df['ToNodeId'].isin(products_df['Id'])\n",
    "# ]"
   ]
  },
  {
   "cell_type": "code",
   "execution_count": 94,
   "id": "10dd53e7",
   "metadata": {},
   "outputs": [
    {
     "data": {
      "text/html": [
       "<div>\n",
       "<style scoped>\n",
       "    .dataframe tbody tr th:only-of-type {\n",
       "        vertical-align: middle;\n",
       "    }\n",
       "\n",
       "    .dataframe tbody tr th {\n",
       "        vertical-align: top;\n",
       "    }\n",
       "\n",
       "    .dataframe thead th {\n",
       "        text-align: right;\n",
       "    }\n",
       "</style>\n",
       "<table border=\"1\" class=\"dataframe\">\n",
       "  <thead>\n",
       "    <tr style=\"text-align: right;\">\n",
       "      <th></th>\n",
       "      <th>Id</th>\n",
       "      <th>ASIN</th>\n",
       "      <th>title</th>\n",
       "      <th>group</th>\n",
       "      <th>salesrank</th>\n",
       "      <th>similar</th>\n",
       "      <th>categories</th>\n",
       "      <th>total_reviews</th>\n",
       "      <th>avg_rating</th>\n",
       "    </tr>\n",
       "  </thead>\n",
       "  <tbody>\n",
       "    <tr>\n",
       "      <th>1</th>\n",
       "      <td>1</td>\n",
       "      <td>0827229534</td>\n",
       "      <td>Patterns of Preaching: A Sermon Sampler</td>\n",
       "      <td>Book</td>\n",
       "      <td>396585.0</td>\n",
       "      <td>0804215715, 156101074X, 0687023955, 0687074231...</td>\n",
       "      <td>Books[283155] | Subjects[1000] | Religion &amp; Sp...</td>\n",
       "      <td>2</td>\n",
       "      <td>5.0</td>\n",
       "    </tr>\n",
       "    <tr>\n",
       "      <th>2</th>\n",
       "      <td>2</td>\n",
       "      <td>0738700797</td>\n",
       "      <td>Candlemas: Feast of Flames</td>\n",
       "      <td>Book</td>\n",
       "      <td>168596.0</td>\n",
       "      <td>0738700827, 1567184960, 1567182836, 0738700525...</td>\n",
       "      <td>Books[283155] | Subjects[1000] | Religion &amp; Sp...</td>\n",
       "      <td>12</td>\n",
       "      <td>4.5</td>\n",
       "    </tr>\n",
       "    <tr>\n",
       "      <th>4</th>\n",
       "      <td>4</td>\n",
       "      <td>0842328327</td>\n",
       "      <td>Life Application Bible Commentary: 1 and 2 Tim...</td>\n",
       "      <td>Book</td>\n",
       "      <td>631289.0</td>\n",
       "      <td>0842328130, 0830818138, 0842330313, 0842328610...</td>\n",
       "      <td>Books[283155] | Subjects[1000] | Religion &amp; Sp...</td>\n",
       "      <td>1</td>\n",
       "      <td>4.0</td>\n",
       "    </tr>\n",
       "    <tr>\n",
       "      <th>5</th>\n",
       "      <td>5</td>\n",
       "      <td>1577943082</td>\n",
       "      <td>Prayers That Avail Much for Business: Executive</td>\n",
       "      <td>Book</td>\n",
       "      <td>455160.0</td>\n",
       "      <td>157794349X, 0892749504, 1577941829, 0892749563...</td>\n",
       "      <td>Books[283155] | Subjects[1000] | Religion &amp; Sp...</td>\n",
       "      <td>0</td>\n",
       "      <td>0.0</td>\n",
       "    </tr>\n",
       "    <tr>\n",
       "      <th>6</th>\n",
       "      <td>6</td>\n",
       "      <td>0486220125</td>\n",
       "      <td>How the Other Half Lives: Studies Among the Te...</td>\n",
       "      <td>Book</td>\n",
       "      <td>188784.0</td>\n",
       "      <td>0486401960, 0452283612, 0486229076, 0714840343...</td>\n",
       "      <td>Books[283155] | Subjects[1000] | Arts &amp; Photog...</td>\n",
       "      <td>17</td>\n",
       "      <td>4.0</td>\n",
       "    </tr>\n",
       "  </tbody>\n",
       "</table>\n",
       "</div>"
      ],
      "text/plain": [
       "   Id        ASIN                                              title group  \\\n",
       "1   1  0827229534            Patterns of Preaching: A Sermon Sampler  Book   \n",
       "2   2  0738700797                         Candlemas: Feast of Flames  Book   \n",
       "4   4  0842328327  Life Application Bible Commentary: 1 and 2 Tim...  Book   \n",
       "5   5  1577943082    Prayers That Avail Much for Business: Executive  Book   \n",
       "6   6  0486220125  How the Other Half Lives: Studies Among the Te...  Book   \n",
       "\n",
       "   salesrank                                            similar  \\\n",
       "1   396585.0  0804215715, 156101074X, 0687023955, 0687074231...   \n",
       "2   168596.0  0738700827, 1567184960, 1567182836, 0738700525...   \n",
       "4   631289.0  0842328130, 0830818138, 0842330313, 0842328610...   \n",
       "5   455160.0  157794349X, 0892749504, 1577941829, 0892749563...   \n",
       "6   188784.0  0486401960, 0452283612, 0486229076, 0714840343...   \n",
       "\n",
       "                                          categories  total_reviews  \\\n",
       "1  Books[283155] | Subjects[1000] | Religion & Sp...              2   \n",
       "2  Books[283155] | Subjects[1000] | Religion & Sp...             12   \n",
       "4  Books[283155] | Subjects[1000] | Religion & Sp...              1   \n",
       "5  Books[283155] | Subjects[1000] | Religion & Sp...              0   \n",
       "6  Books[283155] | Subjects[1000] | Arts & Photog...             17   \n",
       "\n",
       "   avg_rating  \n",
       "1         5.0  \n",
       "2         4.5  \n",
       "4         4.0  \n",
       "5         0.0  \n",
       "6         4.0  "
      ]
     },
     "execution_count": 94,
     "metadata": {},
     "output_type": "execute_result"
    }
   ],
   "source": [
    "products_df.head()"
   ]
  },
  {
   "cell_type": "code",
   "execution_count": 95,
   "id": "df8bb942",
   "metadata": {},
   "outputs": [
    {
     "name": "stdout",
     "output_type": "stream",
     "text": [
      "Products with titles containing 'Entrepreneurs':\n",
      "- Product ID: 7841, Title: 'Free Money® for Small Businesses and Entrepreneurs (Free Money for Small Business and Entrepreneurs)'\n",
      "- Product ID: 9355, Title: 'The Silicon Valley Edge: A Habitat for Innovation and Entrepreneurship'\n",
      "- Product ID: 13307, Title: 'Getting Started in Entrepreneurship (Getting Started In.....)'\n",
      "- Product ID: 15636, Title: 'What No One Ever Tells You About Starting Your Own Business: Real Life Start-Up Advice from 101 Successful Entrepreneurs (What No One Ever Tells You About...)'\n",
      "- Product ID: 18546, Title: 'Advertising Secrets of the Written Word: The Ultimate Resource on How to Write Powerful Advertising Copy from One of America's Top Copywriters and Mail Order Entrepreneurs'\n",
      "- Product ID: 19579, Title: 'Start Your Own Medical Claims Billing Service (Entrepreneurs Magazine Startup)'\n",
      "- Product ID: 22196, Title: 'Entrepreneurship for Dummies'\n",
      "- Product ID: 23728, Title: 'Managing Innovation and Entrepreneurship in Technology-Based Firms'\n",
      "- Product ID: 30957, Title: 'The Entrepreneurs Guide to Managing Intellectual Property (Psi Successful Business Library)'\n",
      "- Product ID: 31266, Title: 'Growing New Ventures, Creating New Jobs : Principles and Practices of Successful Business Incubation (Entrepreneurship: Principles and Practices)'\n",
      "- Product ID: 35817, Title: 'Social Entrepreneurship : The Art of Mission-Based Venture Development'\n",
      "- Product ID: 36590, Title: 'The Venture Cafe : Secrets, Strategies, and Stories from America's High-Tech Entrepreneurs'\n",
      "- Product ID: 45831, Title: 'Enterprising Nonprofits: A Toolkit for Social Entrepreneurs'\n",
      "- Product ID: 50030, Title: 'From Concept to Wall Street: A Complete Guide to Entrepreneurship and Venture Capital'\n",
      "- Product ID: 78063, Title: 'Franchising Dreams : The Lure of Entrepreneurship in America'\n",
      "- Product ID: 80670, Title: 'The Guru Guide to Entrepreneurship: A Concise Guide to the Best Ideas from the World's Top Entrepreneurs'\n",
      "- Product ID: 83315, Title: 'Grassroots Leaders for a New Economy : How Civic Entrepreneurs Are Building Prosperous Communities (Jossey Bass Nonprofit & Public Management Series)'\n",
      "- Product ID: 86800, Title: 'Angel Investing: Matching Startup Funds with Startup Companies -- A Guide for Entrepreneurs, Individual Investors, and Venture Capitalists'\n",
      "- Product ID: 110231, Title: 'The Essential Guide to Web Strategy for Entrepreneurs'\n",
      "- Product ID: 122637, Title: 'Pharmaceutical Innovation: Revolutionizing Human Health (The Chemical Heritage Foundation Series in Innovation and Entrepreneurship)'\n",
      "- Product ID: 126323, Title: 'We Were Burning : Japanese Entrepreneurs and the Forging of the Electronic Age'\n",
      "- Product ID: 129156, Title: 'Essentials of Entrepreneurship and Small Business Management (3rd Edition)'\n",
      "- Product ID: 135632, Title: 'Innovation and Entrepreneurship'\n",
      "- Product ID: 138303, Title: 'Violent Entrepreneurs: The Use of Force in the Making of Russian Capitalism'\n",
      "- Product ID: 141074, Title: 'Marketing Strategies for Small Businesses (The Crisp Small Business & Entrepreneurship)'\n",
      "- Product ID: 143595, Title: 'Annual Editions Entrepreneurship 02/03'\n",
      "- Product ID: 146446, Title: 'The Harvard Entrepreneurs Club Guide to Starting Your Own Business'\n",
      "- Product ID: 147915, Title: 'Niche Marketing for Writers, Speakers, and Entrepreneurs: How to Make Yourself Indispensable, Slightly Immortal, and Lifelong Rich in 18 Months!'\n",
      "- Product ID: 152612, Title: 'Ripples from the Zambezi: Passion, Entrepreneurship, and the Rebirth of Local Economies'\n",
      "- Product ID: 154866, Title: 'Free Money® from the Federal Government for Small Businesses and Entrepreneurs'\n",
      "- Product ID: 156527, Title: 'Radicals & Visionaries: Entrepreneurs Who Revolutionized the 20th Century'\n",
      "- Product ID: 161802, Title: 'Business Valuation Bluebook: How Successful Entrepreneurs Price, Sell and Trade Businesses'\n",
      "- Product ID: 161808, Title: 'Venture Capital: The Definitive Guide for Entrepreneurs, Investors, and Practitioners'\n",
      "- Product ID: 199275, Title: 'Shameless Marketing for Brazen Hussies: 307 Awesome Money-Making Stategies for Savvy Entrepreneurs'\n",
      "- Product ID: 210328, Title: '2003 Guide to Federal Grants and Government Assistance to Small Business: Catalog of Federal Domestic Assistance, Loans, Grants, Surplus Equipment, SBA, GSA, SEC Information for Entrepreneurs, Startup Kit, Loan Programs, Financing, Law, Regulations, Reports, Workbooks ¿ Applying for Federal Assistance (CD-ROM)'\n",
      "- Product ID: 212480, Title: 'The Portable MBA in Entrepreneurship Case Studies'\n",
      "- Product ID: 215098, Title: 'The New Entrepreneurs: Making a Living-Making a Life Through Network Marketing'\n",
      "- Product ID: 217541, Title: 'About My Sister'S Business : The Black Woman'S Road Map To Successful Entrepreneurship'\n",
      "- Product ID: 228949, Title: 'The Portable MBA in Entrepreneurship, 2nd Edition'\n",
      "- Product ID: 236799, Title: 'The McGraw-Hill Guide to Writing a High-Impact Business Plan: A Proven Blueprint for First-Time Entrepreneurs'\n",
      "- Product ID: 253606, Title: 'Entrepreneurship: Strategies and Resources (3rd Edition)'\n",
      "- Product ID: 261346, Title: 'Mastering Entrepreneurship: The Complete MBA Companion in Entrepreneurship'\n",
      "- Product ID: 262982, Title: 'A Good Hard Kick in the Ass: Basic Training for Entrepreneurs'\n",
      "- Product ID: 268283, Title: 'Spiritual Entrepreneurs: 6 Principles for Risking Renewal'\n",
      "- Product ID: 271717, Title: 'Brand New : How Entrepreneurs Earned Consumers' Trust from Wedgwood to Dell'\n",
      "- Product ID: 277157, Title: 'The Virtual Office Survival Handbook : What Telecommuters and Entrepreneurs Need to Succeed in Today's Nontraditional Workplace'\n",
      "- Product ID: 294024, Title: 'Fashion Entrepreneurship: Retail Business Planning'\n",
      "- Product ID: 296060, Title: 'Mandate Of Heaven: In China, A New Generation Of Entrepreneurs, Dissidents, Bohemians And Technocra'\n",
      "- Product ID: 303130, Title: 'Leadership and Innovation : Entrepreneurs in Government'\n",
      "- Product ID: 311581, Title: 'Field Casework : Methods for Consulting to Small and Startup Businesses (Entrepreneurship & the Management of Growing Enterprises)'\n",
      "- Product ID: 312611, Title: 'Strategic Entrepreneurship: Creating a New Mindset (Strategic Management Society)'\n",
      "- Product ID: 318526, Title: 'Free Money and Help for Women Entrepreneurs'\n",
      "- Product ID: 319857, Title: 'Net Entrepreneurs Only : 10 Entrepreneurs Tell the Stories of Their Success'\n",
      "- Product ID: 323113, Title: 'Obscene Profits: Entrepreneurs of Pornography in the Cyber Age'\n",
      "- Product ID: 335811, Title: 'Beyond Entrepreneurship : Turning Your Business into an Enduring Great Company'\n",
      "- Product ID: 339052, Title: 'Our Wildest Dreams: Women Entrepreneurs Making Money, Having Fun, Doing Good'\n",
      "- Product ID: 340165, Title: 'Harvard Business Review on Entrepreneurship (Harvard Business Review Paperback Series)'\n",
      "- Product ID: 348420, Title: 'Growing Pains : Transitioning from an Entrepreneurship to a Professionally Managed Firm'\n",
      "- Product ID: 350877, Title: 'Creating Modern Capitalism: How Entrepreneurs, Companies, and Countries Triumphed in Three Industrial Revolutions'\n",
      "- Product ID: 352954, Title: 'Entrepreneurship'\n",
      "- Product ID: 357874, Title: 'Disclosing New Worlds: Entrepreneurship, Democratic Action, and the Cultivation of Solidarity'\n",
      "- Product ID: 367085, Title: 'Managing Casinos: A Guide for Entrepreneurs, Management Personnel and Aspiring Managers'\n",
      "- Product ID: 367430, Title: 'The Economic Sociology of Immigration: Essays on Networks, Ethnicity and Entrepreneurship'\n",
      "- Product ID: 370349, Title: 'The Executive in Action : Managing for Results, Innovation and Entrepreneurship, the Effective Executive'\n",
      "- Product ID: 372288, Title: 'Essays: On Entrepreneurs, Innovations, Business Cycles, and the Evolution of Capitalism'\n",
      "- Product ID: 387082, Title: 'Business Lessons for Entrepreneurs: 35 Things I Learned Before The Age of Thirty'\n",
      "- Product ID: 390166, Title: 'Strategic Tools for Social Entrepreneurs: Enhancing the Performance of Your Enterprising Nonprofit'\n",
      "- Product ID: 399237, Title: 'Forbes Greatest Technology Stories: Inspiring Tales of the Entrepreneurs and Inventors Who Revolutionized Modern Business (Wiley Audio)'\n",
      "- Product ID: 401431, Title: 'Betting It All: The Technology Entrepreneurs'\n",
      "- Product ID: 415550, Title: 'Forbes&reg; Greatest Technology Stories: Inspiring Tales of the Entrepreneurs and Inventors Who Revolutionized Modern Business'\n",
      "- Product ID: 421866, Title: 'The Mafia of a Sicilian Village 1860-1960: A Study of Violent Peasant Entrepreneurs'\n",
      "- Product ID: 427944, Title: 'The Book of Entrepreneurs' Wisdom: Classic Writings by Legendary Entrepreneurs'\n",
      "- Product ID: 428618, Title: 'Competition and Entrepreneurship'\n",
      "- Product ID: 432301, Title: 'Upstart Start-Ups!: How 34 Young Entrepreneurs Overcame Youth, Inexperience, and Lack of Money to Create Thriving Businesses'\n",
      "- Product ID: 441148, Title: 'Entrepreneurs of Life: Faith and the Venture of Purposeful Living (The Trinity Forum Study Series)'\n",
      "- Product ID: 445459, Title: 'Careerpreneurs : Lessons from Leading Women Entrepreneurs on Building a Career Without Boundaries'\n",
      "- Product ID: 446424, Title: 'Obscene Profits: The Entrepreneurs of Pornography in the Cyber Age'\n",
      "- Product ID: 452976, Title: 'The Banana Men: American Mercenaries and Entrepreneurs in Central America, 1880-1930'\n",
      "- Product ID: 456612, Title: 'Forbes® Greatest Technology Stories : Inspiring Tales of the Entrepreneurs and Inventors Who Revolutionized Modern Business (Wiley Audio)'\n",
      "- Product ID: 458159, Title: 'How to Open Your Own Restaurant : A Guide for Entrepreneurs'\n",
      "- Product ID: 462127, Title: 'How to Incorporate : A Handbook for Entrepreneurs and Professionals (How to Incorporate)'\n",
      "- Product ID: 464871, Title: 'Entrepreneurship: A Social Science View (Oxford Management Readers)'\n",
      "- Product ID: 465832, Title: 'Clusters of Creativity: Enduring Lessons on Innovation and Entrepreneurship from Silicon Valley and Europe's Silicon Fen'\n",
      "- Product ID: 466889, Title: 'The New Entrepreneurs'\n",
      "- Product ID: 467514, Title: 'Kitchen Table Entrepreneurs: How Eleven Women Escaped Poverty and Became Their Own Bosses'\n",
      "- Product ID: 485405, Title: 'The New Entrepreneurs : Making a Living--Making a Life Through Network Marketing'\n",
      "- Product ID: 491033, Title: 'The Definitive Business Plan: The Fast Track to Intelligent Business Planning for Executives and Entrepreneurs (2nd Edition)'\n",
      "- Product ID: 503569, Title: 'Entrepreneurs in High Technology: Lessons from Mit and Beyond'\n",
      "- Product ID: 504554, Title: 'Entrepreneurship with PowerWeb'\n",
      "- Product ID: 505893, Title: 'Daring Visionaries: How Entrepreneurs Build Companies, Inspire Allegiance, and Create Wealth'\n",
      "- Product ID: 508271, Title: 'The Complete Guide to Owning and Operating a Home-Based Recruiting Business: A Step-By-Step Business Plan for Entrepreneurs'\n",
      "- Product ID: 511664, Title: 'Government Giveaways for Entrepreneurs IV (Government Giveaways for Entrepreneurs)'\n",
      "- Product ID: 518731, Title: 'Effective Small Business Management (Harcourt College Publishers Series in Entrepreneurship)'\n"
     ]
    }
   ],
   "source": [
    "def get_product_ids_and_titles_from_title_substring(title_substring, case_sensitive=False):\n",
    "    matching_products = products_df[products_df['title'].str.contains(title_substring, case=case_sensitive)]\n",
    "    \n",
    "    # Return product IDs and titles if found, otherwise return a message indicating not found\n",
    "    if not matching_products.empty:\n",
    "        ids_titles = list(zip(matching_products['Id'].tolist(), matching_products['title'].tolist()))\n",
    "        return ids_titles\n",
    "    else:\n",
    "        return \"Products with the given title substring not found.\"\n",
    "\n",
    "# Example usage:\n",
    "title_search = \"Entrepreneurs\"\n",
    "products_found = get_product_ids_and_titles_from_title_substring(title_search)\n",
    "\n",
    "if isinstance(products_found, list):\n",
    "    print(f\"Products with titles containing '{title_search}':\")\n",
    "    for product_id, title in products_found:\n",
    "        print(f\"- Product ID: {product_id}, Title: '{title}'\")\n",
    "else:\n",
    "    print(products_found)\n"
   ]
  },
  {
   "cell_type": "code",
   "execution_count": 96,
   "id": "603bf4aa",
   "metadata": {},
   "outputs": [
    {
     "ename": "SyntaxError",
     "evalue": "invalid syntax (2498222544.py, line 1)",
     "output_type": "error",
     "traceback": [
      "\u001b[0;36m  Input \u001b[0;32mIn [96]\u001b[0;36m\u001b[0m\n\u001b[0;31m    Given the input product ID: 5 titled: \"Prayers That Avail Much For Business: Executive\"\u001b[0m\n\u001b[0m          ^\u001b[0m\n\u001b[0;31mSyntaxError\u001b[0m\u001b[0;31m:\u001b[0m invalid syntax\n"
     ]
    }
   ],
   "source": [
    "Given the input product ID: 5 titled: \"Prayers That Avail Much For Business: Executive\"\n",
    "\n",
    "The recommended products based on co-purchasing patterns are:\n",
    "- Product ID: 352954 titled: \"Entrepreneurship\"\n",
    "- Product ID: 200336 titled: \"Executive Temping : A Guide for Professionals\"\n",
    "- Product ID: 42322 titled: \"Chaos or Creativity?\"\n",
    "- Product ID: 387069 titled: \"A Handbook of Model Letters for the Busy Executive\"\n",
    "- Product ID: 117493 titled: \"Balancing Your Body : A Self-Help Approach to Rolfing Movement\"\n"
   ]
  },
  {
   "cell_type": "code",
   "execution_count": null,
   "id": "397c6a32",
   "metadata": {},
   "outputs": [],
   "source": []
  },
  {
   "cell_type": "code",
   "execution_count": 97,
   "id": "7422eaac",
   "metadata": {},
   "outputs": [
    {
     "data": {
      "text/plain": [
       "(372180, 9)"
      ]
     },
     "execution_count": 97,
     "metadata": {},
     "output_type": "execute_result"
    }
   ],
   "source": [
    "products_df.shape"
   ]
  },
  {
   "cell_type": "code",
   "execution_count": 98,
   "id": "4f9e52ed",
   "metadata": {},
   "outputs": [],
   "source": [
    "\n",
    "# Create a directed graph\n",
    "G = nx.DiGraph()\n",
    "\n",
    "# Add nodes from the products dataframe\n",
    "for idx, row in products_df.iterrows():\n",
    "    G.add_node(row['Id'], \n",
    "               ASIN=row['ASIN'],\n",
    "               title=row['title'],\n",
    "               group=row['group'],\n",
    "               salesrank=row['salesrank'],\n",
    "               similar=row['similar'],\n",
    "               categories=row['categories'],\n",
    "               total_reviews=row['total_reviews'],\n",
    "               avg_rating=row['avg_rating'])\n",
    "\n",
    "# Add edges from the edges dataframe\n",
    "for idx, row in edges_df.iterrows():\n",
    "    G.add_edge(row['FromNodeId'], row['ToNodeId'])\n"
   ]
  },
  {
   "cell_type": "code",
   "execution_count": 99,
   "id": "5cb13a7b",
   "metadata": {},
   "outputs": [
    {
     "data": {
      "text/plain": [
       "(372180, 9)"
      ]
     },
     "execution_count": 99,
     "metadata": {},
     "output_type": "execute_result"
    }
   ],
   "source": [
    "products_df.shape"
   ]
  },
  {
   "cell_type": "code",
   "execution_count": 100,
   "id": "b431703d",
   "metadata": {},
   "outputs": [
    {
     "data": {
      "text/plain": [
       "array(['Book', 'Music', 'DVD', 'Video', 'Toy', 'Video Games', 'Software',\n",
       "       'Baby Product', 'Sports'], dtype=object)"
      ]
     },
     "execution_count": 100,
     "metadata": {},
     "output_type": "execute_result"
    }
   ],
   "source": [
    "products_df.group.unique()"
   ]
  },
  {
   "cell_type": "code",
   "execution_count": 101,
   "id": "e6bc9a9b",
   "metadata": {},
   "outputs": [
    {
     "name": "stdout",
     "output_type": "stream",
     "text": [
      "title: Patterns of Preaching: A Sermon Sampler\n",
      "group: Book\n",
      "salesrank: 396585.0\n",
      "total_reviews: 2\n",
      "avg_rating: 5.0\n",
      "title: Candlemas: Feast of Flames\n",
      "group: Book\n",
      "salesrank: 168596.0\n",
      "total_reviews: 12\n",
      "avg_rating: 4.5\n"
     ]
    },
    {
     "name": "stderr",
     "output_type": "stream",
     "text": [
      "/var/folders/tn/8kt3y16122x35fqf_c471sy00000gn/T/ipykernel_14674/1546845799.py:30: DeprecationWarning: `alltrue` is deprecated as of NumPy 1.25.0, and will be removed in NumPy 2.0. Please use `all` instead.\n",
      "  nx.draw_networkx_edges(H, pos)\n"
     ]
    },
    {
     "data": {
      "image/png": "[encoded data removed]",
      "text/plain": [
       "<Figure size 864x576 with 1 Axes>"
      ]
     },
     "metadata": {},
     "output_type": "display_data"
    }
   ],
   "source": [
    "import matplotlib.pyplot as plt\n",
    "\n",
    "# Find an edge where both nodes have the 'title' attribute\n",
    "edge = next(e for e in G.edges() if 'title' in G.nodes[e[0]] and 'title' in G.nodes[e[1]])\n",
    "two_nodes = [edge[0], edge[1]]\n",
    "\n",
    "# Subset graph\n",
    "H = G.subgraph(two_nodes)\n",
    "pos = nx.spring_layout(H)\n",
    "\n",
    "# Adjust label positions to ensure they're next to the nodes\n",
    "label_pos = {node: (x, y+0.1) for node, (x, y) in pos.items()}\n",
    "\n",
    "# Construct labels with multiple lines of metadata\n",
    "labels = {}\n",
    "for node in two_nodes:\n",
    "    node_data = H.nodes[node]\n",
    "    labels[node] = f\"title: {node_data['title']}\\n\" \\\n",
    "                   f\"group: {node_data['group']}\\n\" \\\n",
    "                   f\"salesrank: {node_data['salesrank']}\\n\" \\\n",
    "                   f\"total_reviews: {node_data['total_reviews']}\\n\" \\\n",
    "                   f\"avg_rating: {node_data['avg_rating']}\"\n",
    "\n",
    "    \n",
    "    print(labels[node])\n",
    "    \n",
    "# Visualization\n",
    "plt.figure(figsize=(12, 8))\n",
    "nx.draw_networkx_nodes(H, pos, node_size=2000, node_color='lightblue', edgecolors='black', linewidths=1.5)\n",
    "nx.draw_networkx_edges(H, pos)\n",
    "nx.draw_networkx_labels(H, label_pos, labels, font_size=10, font_family='Arial', font_weight='bold')\n",
    "plt.axis('off')\n",
    "plt.show()\n"
   ]
  },
  {
   "cell_type": "code",
   "execution_count": 102,
   "id": "da5ae152",
   "metadata": {},
   "outputs": [
    {
     "data": {
      "image/png": "[encoded data removed]",
      "text/plain": [
       "<Figure size 432x288 with 1 Axes>"
      ]
     },
     "metadata": {},
     "output_type": "display_data"
    }
   ],
   "source": [
    "import matplotlib.pyplot as plt\n",
    "\n",
    "# Draw a subset of the graph (e.g., using only the first 100 nodes and their edges)\n",
    "H = G.subgraph(list(G.nodes)[:10])\n",
    "pos = nx.spring_layout(H)\n",
    "nx.draw(H, pos, with_labels=True, node_size=500, node_color='lightblue', edge_color='gray')\n",
    "plt.show()\n"
   ]
  },
  {
   "cell_type": "code",
   "execution_count": 103,
   "id": "6bdeae13",
   "metadata": {},
   "outputs": [],
   "source": [
    "# Function to split text into two lines\n",
    "def split_label(label, max_len=20):\n",
    "    if len(label) <= max_len:\n",
    "        return label\n",
    "    split_index = label[:max_len].rfind(' ')\n",
    "    if split_index == -1:\n",
    "        split_index = max_len\n",
    "    return label[:split_index] + '\\n' + label[split_index:]\n",
    "\n",
    "\n",
    "# Apply this function to each label\n",
    "labels = {node: split_label(H.nodes[node]['title']) for node in H.nodes()}\n"
   ]
  },
  {
   "cell_type": "code",
   "execution_count": 104,
   "id": "52913fa8",
   "metadata": {
    "scrolled": true
   },
   "outputs": [
    {
     "data": {
      "image/png": "[encoded data removed]",
      "text/plain": [
       "<Figure size 1008x576 with 1 Axes>"
      ]
     },
     "metadata": {},
     "output_type": "display_data"
    }
   ],
   "source": [
    "import matplotlib.pyplot as plt\n",
    "\n",
    "# figure size\n",
    "fig = plt.figure(figsize=(14, 8))\n",
    "\n",
    "# Draw a subset of the graph\n",
    "H = G.subgraph(list(G.nodes)[:5])\n",
    "pos = nx.spring_layout(H, iterations=50)\n",
    "\n",
    "node_colors = plt.cm.Pastel1(range(len(H)))\n",
    "\n",
    "# Draw nodes and edges\n",
    "nx.draw_networkx_nodes(H, pos, node_size=500, node_color=node_colors, edgecolors='black', linewidths=0.5)\n",
    "nx.draw_networkx_edges(H, pos, edge_color='gray', alpha=0.6, width=1.5)\n",
    "\n",
    "# Offset labels\n",
    "label_pos = {node: (x, y+0.) for node, (x, y) in pos.items()}\n",
    "\n",
    "# Draw labels\n",
    "labels = {node: split_label(H.nodes[node]['title']) for node in H.nodes()}\n",
    "nx.draw_networkx_labels(H, label_pos, labels, font_size=10, font_family='Arial', font_weight='bold')\n",
    "\n",
    "plt.axis('off')\n",
    "plt.show()\n"
   ]
  },
  {
   "cell_type": "code",
   "execution_count": 105,
   "id": "9b15cb27",
   "metadata": {},
   "outputs": [],
   "source": [
    "betweenness_centrality = nx.clustering(H)"
   ]
  },
  {
   "cell_type": "code",
   "execution_count": 106,
   "id": "b7785221",
   "metadata": {},
   "outputs": [],
   "source": [
    "import networkx as nx\n",
    "\n",
    "# Degree of each node\n",
    "degree = dict(G.degree())\n",
    "\n",
    "# Clustering coefficient of each no?de\n",
    "clustering_coefficient = nx.clustering(G)\n",
    "\n",
    "# Add these as node attributes\n",
    "nx.set_node_attributes(G, degree, 'degree')\n",
    "nx.set_node_attributes(G, clustering_coefficient, 'clustering')"
   ]
  },
  {
   "cell_type": "code",
   "execution_count": 107,
   "id": "7f7cc497",
   "metadata": {},
   "outputs": [],
   "source": [
    "# Extracting graph features into a dataframe\n",
    "graph_features_df = pd.DataFrame({\n",
    "    'Id': list(G.nodes),\n",
    "    'degree': list(degree.values()),\n",
    "    'clustering': list(clustering_coefficient.values())\n",
    "})\n",
    "\n",
    "# Merging with original product features\n",
    "merged_df = pd.merge(products_df, graph_features_df, on='Id')\n"
   ]
  },
  {
   "cell_type": "code",
   "execution_count": 108,
   "id": "d6acf176",
   "metadata": {},
   "outputs": [
    {
     "data": {
      "text/html": [
       "<div>\n",
       "<style scoped>\n",
       "    .dataframe tbody tr th:only-of-type {\n",
       "        vertical-align: middle;\n",
       "    }\n",
       "\n",
       "    .dataframe tbody tr th {\n",
       "        vertical-align: top;\n",
       "    }\n",
       "\n",
       "    .dataframe thead th {\n",
       "        text-align: right;\n",
       "    }\n",
       "</style>\n",
       "<table border=\"1\" class=\"dataframe\">\n",
       "  <thead>\n",
       "    <tr style=\"text-align: right;\">\n",
       "      <th></th>\n",
       "      <th>Id</th>\n",
       "      <th>ASIN</th>\n",
       "      <th>title</th>\n",
       "      <th>group</th>\n",
       "      <th>salesrank</th>\n",
       "      <th>similar</th>\n",
       "      <th>categories</th>\n",
       "      <th>total_reviews</th>\n",
       "      <th>avg_rating</th>\n",
       "      <th>degree</th>\n",
       "      <th>clustering</th>\n",
       "    </tr>\n",
       "  </thead>\n",
       "  <tbody>\n",
       "    <tr>\n",
       "      <th>0</th>\n",
       "      <td>1</td>\n",
       "      <td>0827229534</td>\n",
       "      <td>Patterns of Preaching: A Sermon Sampler</td>\n",
       "      <td>Book</td>\n",
       "      <td>396585.0</td>\n",
       "      <td>0804215715, 156101074X, 0687023955, 0687074231...</td>\n",
       "      <td>Books[283155] | Subjects[1000] | Religion &amp; Sp...</td>\n",
       "      <td>2</td>\n",
       "      <td>5.0</td>\n",
       "      <td>6</td>\n",
       "      <td>0.285714</td>\n",
       "    </tr>\n",
       "    <tr>\n",
       "      <th>1</th>\n",
       "      <td>2</td>\n",
       "      <td>0738700797</td>\n",
       "      <td>Candlemas: Feast of Flames</td>\n",
       "      <td>Book</td>\n",
       "      <td>168596.0</td>\n",
       "      <td>0738700827, 1567184960, 1567182836, 0738700525...</td>\n",
       "      <td>Books[283155] | Subjects[1000] | Religion &amp; Sp...</td>\n",
       "      <td>12</td>\n",
       "      <td>4.5</td>\n",
       "      <td>7</td>\n",
       "      <td>0.125000</td>\n",
       "    </tr>\n",
       "    <tr>\n",
       "      <th>2</th>\n",
       "      <td>4</td>\n",
       "      <td>0842328327</td>\n",
       "      <td>Life Application Bible Commentary: 1 and 2 Tim...</td>\n",
       "      <td>Book</td>\n",
       "      <td>631289.0</td>\n",
       "      <td>0842328130, 0830818138, 0842330313, 0842328610...</td>\n",
       "      <td>Books[283155] | Subjects[1000] | Religion &amp; Sp...</td>\n",
       "      <td>1</td>\n",
       "      <td>4.0</td>\n",
       "      <td>30</td>\n",
       "      <td>0.100462</td>\n",
       "    </tr>\n",
       "    <tr>\n",
       "      <th>3</th>\n",
       "      <td>5</td>\n",
       "      <td>1577943082</td>\n",
       "      <td>Prayers That Avail Much for Business: Executive</td>\n",
       "      <td>Book</td>\n",
       "      <td>455160.0</td>\n",
       "      <td>157794349X, 0892749504, 1577941829, 0892749563...</td>\n",
       "      <td>Books[283155] | Subjects[1000] | Religion &amp; Sp...</td>\n",
       "      <td>0</td>\n",
       "      <td>0.0</td>\n",
       "      <td>59</td>\n",
       "      <td>0.035129</td>\n",
       "    </tr>\n",
       "    <tr>\n",
       "      <th>4</th>\n",
       "      <td>6</td>\n",
       "      <td>0486220125</td>\n",
       "      <td>How the Other Half Lives: Studies Among the Te...</td>\n",
       "      <td>Book</td>\n",
       "      <td>188784.0</td>\n",
       "      <td>0486401960, 0452283612, 0486229076, 0714840343...</td>\n",
       "      <td>Books[283155] | Subjects[1000] | Arts &amp; Photog...</td>\n",
       "      <td>17</td>\n",
       "      <td>4.0</td>\n",
       "      <td>103</td>\n",
       "      <td>0.008475</td>\n",
       "    </tr>\n",
       "  </tbody>\n",
       "</table>\n",
       "</div>"
      ],
      "text/plain": [
       "   Id        ASIN                                              title group  \\\n",
       "0   1  0827229534            Patterns of Preaching: A Sermon Sampler  Book   \n",
       "1   2  0738700797                         Candlemas: Feast of Flames  Book   \n",
       "2   4  0842328327  Life Application Bible Commentary: 1 and 2 Tim...  Book   \n",
       "3   5  1577943082    Prayers That Avail Much for Business: Executive  Book   \n",
       "4   6  0486220125  How the Other Half Lives: Studies Among the Te...  Book   \n",
       "\n",
       "   salesrank                                            similar  \\\n",
       "0   396585.0  0804215715, 156101074X, 0687023955, 0687074231...   \n",
       "1   168596.0  0738700827, 1567184960, 1567182836, 0738700525...   \n",
       "2   631289.0  0842328130, 0830818138, 0842330313, 0842328610...   \n",
       "3   455160.0  157794349X, 0892749504, 1577941829, 0892749563...   \n",
       "4   188784.0  0486401960, 0452283612, 0486229076, 0714840343...   \n",
       "\n",
       "                                          categories  total_reviews  \\\n",
       "0  Books[283155] | Subjects[1000] | Religion & Sp...              2   \n",
       "1  Books[283155] | Subjects[1000] | Religion & Sp...             12   \n",
       "2  Books[283155] | Subjects[1000] | Religion & Sp...              1   \n",
       "3  Books[283155] | Subjects[1000] | Religion & Sp...              0   \n",
       "4  Books[283155] | Subjects[1000] | Arts & Photog...             17   \n",
       "\n",
       "   avg_rating  degree  clustering  \n",
       "0         5.0       6    0.285714  \n",
       "1         4.5       7    0.125000  \n",
       "2         4.0      30    0.100462  \n",
       "3         0.0      59    0.035129  \n",
       "4         4.0     103    0.008475  "
      ]
     },
     "execution_count": 108,
     "metadata": {},
     "output_type": "execute_result"
    }
   ],
   "source": [
    "merged_df.head()"
   ]
  },
  {
   "cell_type": "code",
   "execution_count": 109,
   "id": "580e4dd6",
   "metadata": {},
   "outputs": [
    {
     "data": {
      "text/plain": [
       "[]"
      ]
     },
     "execution_count": 109,
     "metadata": {},
     "output_type": "execute_result"
    }
   ],
   "source": [
    "nan_columns = merged_df.columns[merged_df.isna().any()].tolist()\n",
    "nan_columns"
   ]
  },
  {
   "cell_type": "code",
   "execution_count": 110,
   "id": "b7da776a",
   "metadata": {},
   "outputs": [
    {
     "data": {
      "text/plain": [
       "(372180, 11)"
      ]
     },
     "execution_count": 110,
     "metadata": {},
     "output_type": "execute_result"
    }
   ],
   "source": [
    "merged_df.shape"
   ]
  },
  {
   "cell_type": "code",
   "execution_count": 111,
   "id": "fbe61eea",
   "metadata": {},
   "outputs": [
    {
     "data": {
      "text/plain": [
       "(372180, 11)"
      ]
     },
     "execution_count": 111,
     "metadata": {},
     "output_type": "execute_result"
    }
   ],
   "source": [
    "merged_df_cleaned = merged_df.dropna()\n",
    "merged_df_cleaned.shape"
   ]
  },
  {
   "cell_type": "code",
   "execution_count": 112,
   "id": "948bff88",
   "metadata": {},
   "outputs": [
    {
     "data": {
      "text/plain": [
       "RandomForestClassifier()"
      ]
     },
     "execution_count": 112,
     "metadata": {},
     "output_type": "execute_result"
    }
   ],
   "source": [
    "from sklearn.model_selection import train_test_split\n",
    "from sklearn.ensemble import RandomForestClassifier\n",
    "from sklearn.metrics import accuracy_score, classification_report\n",
    "\n",
    "# Define our target variable based on avg_rating\n",
    "merged_df_cleaned['high_rating'] = merged_df_cleaned['avg_rating'].apply(lambda x: 1 if x > 4.5 else 0)\n",
    "\n",
    "# Splitting data into training and test set\n",
    "X = merged_df_cleaned[['degree', 'clustering', 'salesrank', 'total_reviews']]\n",
    "y = merged_df_cleaned['high_rating']\n",
    "X_train, X_test, y_train, y_test = train_test_split(X, y, test_size=0.2, random_state=42)\n",
    "\n",
    "# Training a Random Forest Classifier\n",
    "clf = RandomForestClassifier()\n",
    "clf.fit(X_train, y_train)\n"
   ]
  },
  {
   "cell_type": "code",
   "execution_count": 113,
   "id": "ec164732",
   "metadata": {},
   "outputs": [
    {
     "name": "stdout",
     "output_type": "stream",
     "text": [
      "Accuracy: 0.6951609436294266\n",
      "              precision    recall  f1-score   support\n",
      "\n",
      "           0       0.77      0.81      0.79     52619\n",
      "           1       0.48      0.41      0.44     21817\n",
      "\n",
      "    accuracy                           0.70     74436\n",
      "   macro avg       0.62      0.61      0.62     74436\n",
      "weighted avg       0.68      0.70      0.69     74436\n",
      "\n"
     ]
    }
   ],
   "source": [
    "# Predictions\n",
    "y_pred = clf.predict(X_test)\n",
    "\n",
    "# Evaluation\n",
    "accuracy = accuracy_score(y_test, y_pred)\n",
    "report = classification_report(y_test, y_pred)\n",
    "\n",
    "print(f\"Accuracy: {accuracy}\")\n",
    "print(report)"
   ]
  },
  {
   "cell_type": "code",
   "execution_count": 115,
   "id": "75d56e56",
   "metadata": {},
   "outputs": [
    {
     "data": {
      "text/plain": [
       "RandomForestClassifier()"
      ]
     },
     "execution_count": 115,
     "metadata": {},
     "output_type": "execute_result"
    }
   ],
   "source": [
    "from sklearn.model_selection import train_test_split\n",
    "from sklearn.ensemble import RandomForestClassifier\n",
    "from sklearn.metrics import accuracy_score, classification_report\n",
    "\n",
    "# Define our target variable based on avg_rating\n",
    "merged_df_cleaned['high_rating'] = merged_df_cleaned['avg_rating'].apply(lambda x: 1 if x > 4.5 else 0)\n",
    "\n",
    "# Splitting data into training and test set\n",
    "X = merged_df_cleaned[['salesrank', 'total_reviews']]\n",
    "y = merged_df_cleaned['high_rating']\n",
    "X_train, X_test, y_train, y_test = train_test_split(X, y, test_size=0.2, random_state=42)\n",
    "\n",
    "# Training a Random Forest Classifier\n",
    "clf = RandomForestClassifier()\n",
    "clf.fit(X_train, y_train)\n"
   ]
  },
  {
   "cell_type": "code",
   "execution_count": 116,
   "id": "92bd0488",
   "metadata": {},
   "outputs": [
    {
     "name": "stdout",
     "output_type": "stream",
     "text": [
      "Accuracy: 0.6744720296630663\n",
      "              precision    recall  f1-score   support\n",
      "\n",
      "           0       0.77      0.77      0.77     52619\n",
      "           1       0.44      0.43      0.44     21817\n",
      "\n",
      "    accuracy                           0.67     74436\n",
      "   macro avg       0.61      0.60      0.60     74436\n",
      "weighted avg       0.67      0.67      0.67     74436\n",
      "\n"
     ]
    }
   ],
   "source": [
    "# Predictions\n",
    "y_pred = clf.predict(X_test)\n",
    "\n",
    "# Evaluation\n",
    "accuracy = accuracy_score(y_test, y_pred)\n",
    "report = classification_report(y_test, y_pred)\n",
    "\n",
    "print(f\"Accuracy: {accuracy}\")\n",
    "print(report)\n"
   ]
  },
  {
   "cell_type": "code",
   "execution_count": null,
   "id": "6dae8d33",
   "metadata": {},
   "outputs": [],
   "source": [
    "Accuracy: 0.6740958675909506\n",
    "              precision    recall  f1-score   support\n",
    "\n",
    "           0       0.77      0.77      0.77     52619\n",
    "           1       0.44      0.43      0.44     21817\n",
    "\n",
    "    accuracy                           0.67     74436\n",
    "   macro avg       0.61      0.60      0.60     74436\n",
    "weighted avg       0.67      0.67      0.67     74436"
   ]
  }
 ],
 "metadata": {
  "kernelspec": {
   "display_name": "Python 3 (ipykernel)",
   "language": "python",
   "name": "python3"
  },
  "language_info": {
   "codemirror_mode": {
    "name": "ipython",
    "version": 3
   },
   "file_extension": ".py",
   "mimetype": "text/x-python",
   "name": "python",
   "nbconvert_exporter": "python",
   "pygments_lexer": "ipython3",
   "version": "3.9.12"
  }
 },
 "nbformat": 4,
 "nbformat_minor": 5
}
